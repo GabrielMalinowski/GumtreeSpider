{
  "nbformat": 4,
  "nbformat_minor": 0,
  "metadata": {
    "colab": {
      "name": "PyHW2.ipynb",
      "version": "0.3.2",
      "provenance": [],
      "collapsed_sections": [],
      "include_colab_link": true
    },
    "kernelspec": {
      "name": "python3",
      "display_name": "Python 3"
    }
  },
  "cells": [
    {
      "cell_type": "markdown",
      "metadata": {
        "id": "view-in-github",
        "colab_type": "text"
      },
      "source": [
        "<a href=\"https://colab.research.google.com/github/GabrielMalinowski/GumtreeSpider/blob/master/PyHW2.ipynb\" target=\"_parent\"><img src=\"https://colab.research.google.com/assets/colab-badge.svg\" alt=\"Open In Colab\"/></a>"
      ]
    },
    {
      "metadata": {
        "id": "_DaXsRFn7S-4",
        "colab_type": "code",
        "colab": {}
      },
      "cell_type": "code",
      "source": [
        "from bs4 import BeautifulSoup\n",
        "from urllib.request import urlopen\n",
        "import lxml\n",
        "import re"
      ],
      "execution_count": 0,
      "outputs": []
    },
    {
      "metadata": {
        "id": "lNyIsXsY5xTI",
        "colab_type": "code",
        "colab": {}
      },
      "cell_type": "code",
      "source": [
        "html_page = urlopen('https://www.gumtree.pl/a-mieszkania-i-domy-sprzedam-i-kupie/srodmiescie/trzypokojowe-mieszkanie-64-m2-w-kamienicy-przy-lazienkach/1004677222040912253554609')\n",
        "soup = BeautifulSoup(html_page, 'lxml') #html.parser\n",
        "#print(soup.prettify())\n",
        "\n",
        "#cena\n",
        "#tytuł\n",
        "#opis"
      ],
      "execution_count": 0,
      "outputs": []
    },
    {
      "metadata": {
        "id": "jLsYo7DS6TRQ",
        "colab_type": "code",
        "outputId": "bee54ca7-59d7-4b37-a9de-ebb152fd432b",
        "colab": {
          "base_uri": "https://localhost:8080/",
          "height": 638
        }
      },
      "cell_type": "code",
      "source": [
        "# BOX\n",
        "soup.find_all(\"div\", class_=\"attribute\")\n"
      ],
      "execution_count": 0,
      "outputs": [
        {
          "output_type": "execute_result",
          "data": {
            "text/plain": [
              "[<div class=\"attribute\">\n",
              " <span class=\"name\">Data dodania</span>\n",
              " <span class=\"value\">\n",
              " \t\t\t\n",
              " \t\t\t\t03/04/2019\n",
              " \t\t\t\n",
              " \t\t</span>\n",
              " </div>, <div class=\"attribute\">\n",
              " <span class=\"name\">Lokalizacja</span>\n",
              " <span class=\"value\">\n",
              " <div class=\"location\">\n",
              " <a href=\"https://www.gumtree.pl/s-srodmiescie/v1l3200017p1\">Śródmieście</a>, \n",
              "     \n",
              "     \n",
              "         <a href=\"https://www.gumtree.pl/s-warszawa/v1l3200008p1\">Warszawa</a>\n",
              " </div>\n",
              " </span>\n",
              " </div>, <div class=\"attribute\">\n",
              " <span class=\"name\">Na sprzedaż przez</span>\n",
              " <span class=\"value\">Agencja</span>\n",
              " </div>, <div class=\"attribute\">\n",
              " <span class=\"name\">Rodzaj nieruchomości</span>\n",
              " <span class=\"value\">Mieszkanie</span>\n",
              " </div>, <div class=\"attribute\">\n",
              " <span class=\"name\">Liczba pokoi</span>\n",
              " <span class=\"value\">3 pokoje</span>\n",
              " </div>, <div class=\"attribute\">\n",
              " <span class=\"name\">Liczba łazienek</span>\n",
              " <span class=\"value\">1 łazienka</span>\n",
              " </div>, <div class=\"attribute\">\n",
              " <span class=\"name\">Wielkość (m2)</span>\n",
              " <span class=\"value\">64</span>\n",
              " </div>, <div class=\"attribute\">\n",
              " <span class=\"name\">Parking</span>\n",
              " <span class=\"value\">Ulica</span>\n",
              " </div>]"
            ]
          },
          "metadata": {
            "tags": []
          },
          "execution_count": 15
        }
      ]
    },
    {
      "metadata": {
        "id": "hQSNTTFj6TEK",
        "colab_type": "code",
        "colab": {}
      },
      "cell_type": "code",
      "source": [
        ""
      ],
      "execution_count": 0,
      "outputs": []
    }
  ]
}